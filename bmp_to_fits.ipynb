{
 "cells": [
  {
   "cell_type": "code",
   "execution_count": 1,
   "id": "2b59d311",
   "metadata": {},
   "outputs": [],
   "source": [
    "import numpy as np\n",
    "from astropy.io import fits\n",
    "from scipy.optimize import curve_fit\n",
    "import os\n",
    "import glob\n",
    "from pylab import *\n",
    "from math import e\n",
    "import matplotlib\n",
    "import matplotlib.pyplot as plt\n",
    "import matplotlib.ticker as ticker\n",
    "from scipy.ndimage import rotate\n",
    "from PIL import Image"
   ]
  },
  {
   "cell_type": "code",
   "execution_count": 2,
   "id": "6c0dd965",
   "metadata": {},
   "outputs": [
    {
     "name": "stdout",
     "output_type": "stream",
     "text": [
      "['/Users/anh5866/Desktop/Coding/OGRE/collimated_beam/morning5237/morning0001 25-09-22 09-31-41.bmp'\n",
      " '/Users/anh5866/Desktop/Coding/OGRE/collimated_beam/morning5237/morning0002 25-09-22 09-31-41.bmp'\n",
      " '/Users/anh5866/Desktop/Coding/OGRE/collimated_beam/morning5237/morning0003 25-09-22 09-31-41.bmp'\n",
      " ...\n",
      " '/Users/anh5866/Desktop/Coding/OGRE/collimated_beam/morning5237/morning9443 25-09-22 09-34-40.bmp'\n",
      " '/Users/anh5866/Desktop/Coding/OGRE/collimated_beam/morning5237/morning9444 25-09-22 09-34-40.bmp'\n",
      " '/Users/anh5866/Desktop/Coding/OGRE/collimated_beam/morning5237/morning9445 25-09-22 09-34-40.bmp']\n",
      "9445\n"
     ]
    }
   ],
   "source": [
    "#path1  = \"/Users/anh5866/Desktop/Coding/OGRE/collimated_beam/temp/*.bmp\"\n",
    "#path1  = \"/Users/anh5866/Desktop/Coding/OGRE/collimated_beam/20250917/*.bmp\"\n",
    "#path1 = \"/Users/anh5866/OneDrive - The Pennsylvania State University/20250917/*.bmp\"\n",
    "\n",
    "path1 = \"/Users/anh5866/Desktop/Coding/OGRE/collimated_beam/morning5237/*.bmp\"\n",
    "\n",
    "bmp_list = glob.glob(path1)\n",
    "bmp_list = np.sort(bmp_list,kind='standardsort')\n",
    "\n",
    "print(bmp_list)\n",
    "print(len(bmp_list))"
   ]
  },
  {
   "cell_type": "code",
   "execution_count": 3,
   "id": "5babf1cd",
   "metadata": {},
   "outputs": [],
   "source": [
    "#BMPs folder\n",
    "input_folder = \"/Users/anh5866/Desktop/Coding/OGRE/collimated_beam/morning5237\"\n",
    "output_folder = \"/Users/anh5866/Desktop/Coding/OGRE/collimated_beam/morning5237_fits\"\n",
    "\n",
    "os.makedirs(output_folder, exist_ok=True)\n",
    "\n",
    "for filename in os.listdir(input_folder):\n",
    "    if filename.lower().endswith(\".bmp\"):\n",
    "        #load BMP\n",
    "        img_path = os.path.join(input_folder, filename)\n",
    "        img = Image.open(img_path).convert(\"L\")  \n",
    "        data = np.array(img)\n",
    "\n",
    "        # save as FITS\n",
    "        fits_filename = os.path.splitext(filename)[0] + \".fits\"\n",
    "        fits_path = os.path.join(output_folder, fits_filename)\n",
    "        hdu = fits.PrimaryHDU(data)\n",
    "        hdu.writeto(fits_path, overwrite=True)\n",
    "\n",
    "        #print(f\"Converted {filename} -> {fits_filename}\")\n"
   ]
  },
  {
   "cell_type": "code",
   "execution_count": 5,
   "id": "1939d93d",
   "metadata": {},
   "outputs": [
    {
     "name": "stdout",
     "output_type": "stream",
     "text": [
      "['/Users/anh5866/Desktop/Coding/OGRE/collimated_beam/morning5237_fits/morning0001 25-09-22 09-31-41.fits'\n",
      " '/Users/anh5866/Desktop/Coding/OGRE/collimated_beam/morning5237_fits/morning0002 25-09-22 09-31-41.fits'\n",
      " '/Users/anh5866/Desktop/Coding/OGRE/collimated_beam/morning5237_fits/morning0003 25-09-22 09-31-41.fits'\n",
      " ...\n",
      " '/Users/anh5866/Desktop/Coding/OGRE/collimated_beam/morning5237_fits/morning9443 25-09-22 09-34-40.fits'\n",
      " '/Users/anh5866/Desktop/Coding/OGRE/collimated_beam/morning5237_fits/morning9444 25-09-22 09-34-40.fits'\n",
      " '/Users/anh5866/Desktop/Coding/OGRE/collimated_beam/morning5237_fits/morning9445 25-09-22 09-34-40.fits']\n",
      "9445\n"
     ]
    }
   ],
   "source": [
    "path2 = \"/Users/anh5866/Desktop/Coding/OGRE/collimated_beam/morning5237_fits/*.fits\"\n",
    "\n",
    "fits_list = glob.glob(path2)\n",
    "fits_list = np.sort(fits_list,kind='standardsort')\n",
    "\n",
    "print(fits_list)\n",
    "print(len(fits_list))"
   ]
  },
  {
   "cell_type": "code",
   "execution_count": null,
   "id": "b8f962d4",
   "metadata": {},
   "outputs": [],
   "source": []
  }
 ],
 "metadata": {
  "kernelspec": {
   "display_name": "Python 3 (ipykernel)",
   "language": "python",
   "name": "python3"
  },
  "language_info": {
   "codemirror_mode": {
    "name": "ipython",
    "version": 3
   },
   "file_extension": ".py",
   "mimetype": "text/x-python",
   "name": "python",
   "nbconvert_exporter": "python",
   "pygments_lexer": "ipython3",
   "version": "3.11.5"
  }
 },
 "nbformat": 4,
 "nbformat_minor": 5
}
